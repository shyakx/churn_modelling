{
  "nbformat": 4,
  "nbformat_minor": 0,
  "metadata": {
    "colab": {
      "provenance": [],
      "authorship_tag": "ABX9TyODJPTMLw2/h+ulwn8hMW0Q",
      "include_colab_link": true
    },
    "kernelspec": {
      "name": "python3",
      "display_name": "Python 3"
    },
    "language_info": {
      "name": "python"
    }
  },
  "cells": [
    {
      "cell_type": "markdown",
      "metadata": {
        "id": "view-in-github",
        "colab_type": "text"
      },
      "source": [
        "<a href=\"https://colab.research.google.com/github/shyakx/churn_modelling/blob/main/Summative_Intro_to_ml_Steven_Shyaka_assignment.ipynb\" target=\"_parent\"><img src=\"https://colab.research.google.com/assets/colab-badge.svg\" alt=\"Open In Colab\"/></a>"
      ]
    },
    {
      "cell_type": "markdown",
      "source": [
        "**Project Summary: Churn Modeling with Optimization Techniques**\n",
        "\n",
        "**Objective:**\n",
        "\n",
        "The goal of this project is to implement and optimize machine learning models to predict customer churn. It explores various machine learning techniques, from classical models to deep learning, while applying optimization techniques to improve performance, convergence speed, and efficiency.\n",
        "\n",
        "**Dataset:**\n",
        "\n",
        "The dataset contains customer information, including demographics, account details, and activity history. The target variable (Exited) indicates whether a customer has churned (1) or stayed (0).\n",
        "\n",
        "**Key Steps:**\n",
        "\n",
        "**Data Preprocessing:**\n",
        "\n",
        "Unnecessary columns (RowNumber, CustomerId, Surname) were removed to eliminate noise.\n",
        "Categorical variables (Geography, Gender) were encoded to numerical values.\n",
        "Features were standardized to improve model efficiency.\n",
        "\n",
        "**Model 1: Logistic Regression (Baseline)**\n",
        "\n",
        "A classical supervised learning model used for initial predictions.\n",
        "Provides a baseline for comparison with more complex models.\n",
        "\n",
        "**Model 2: Basic Neural Network**\n",
        "\n",
        "A simple feedforward neural network trained without optimizations.\n",
        "Helps establish the impact of deep learning without enhancements.\n",
        "\n",
        "**Model 3: Optimized Neural Network**\n",
        "\n",
        "Introduced dropout layers to prevent overfitting.\n",
        "Adjusted the learning rate and used Adam optimizer for better convergence.\n",
        "Implemented early stopping to stop training when performance plateaued.\n",
        "\n",
        "**Model Evaluation & Performance Comparison:**\n",
        "\n",
        "Confusion matrices were plotted to visualize classification performance.\n",
        "Metrics like Accuracy, Precision, Recall, F1-Score, and ROC-AUC Score were used for evaluation.\n",
        "The optimized model showed improved accuracy and generalization.\n",
        "Predictions & Interpretability:\n",
        "\n",
        "Five test instances were randomly selected to observe actual vs. predicted churn.\n",
        "Helps interpret real-world applicability of the model.\n",
        "\n",
        "**Conclusion:**\n",
        "\n",
        "The Optimized Neural Network outperformed both the Logistic Regression and the basic neural network in predicting customer churn.\n",
        "Applying regularization, early stopping, and learning rate adjustment significantly improved model performance.\n",
        "These techniques are crucial for real-world applications, ensuring better decision-making in customer retention strategies."
      ],
      "metadata": {
        "id": "ZCRttTpf8vff"
      }
    },
    {
      "cell_type": "markdown",
      "source": [
        "**LET'S DIVE INTO THE TRAININGS**"
      ],
      "metadata": {
        "id": "nvg8HnBO-kSP"
      }
    },
    {
      "cell_type": "markdown",
      "source": [
        "1. **LIBRARY IMPORTS**"
      ],
      "metadata": {
        "id": "XxJtV2sN-2jd"
      }
    },
    {
      "cell_type": "code",
      "execution_count": 9,
      "metadata": {
        "id": "8sWC6FE38sZ5"
      },
      "outputs": [],
      "source": [
        "import numpy as np\n",
        "import pandas as pd\n",
        "import matplotlib.pyplot as plt\n",
        "import seaborn as sns\n",
        "from sklearn.model_selection import train_test_split\n",
        "from sklearn.preprocessing import StandardScaler, LabelEncoder\n",
        "from sklearn.metrics import accuracy_score, classification_report, confusion_matrix, roc_auc_score\n",
        "from sklearn.linear_model import LogisticRegression\n",
        "import tensorflow as tf\n",
        "from tensorflow.keras.models import Sequential\n",
        "from tensorflow.keras.layers import Dense, Dropout\n",
        "from tensorflow.keras.optimizers import Adam\n",
        "from tensorflow.keras.callbacks import EarlyStopping"
      ]
    },
    {
      "cell_type": "markdown",
      "source": [
        "****\n",
        "2. **LOAD DATASET**\n",
        "\n",
        "The dataset contains customer information and whether they have churned (Exited column).\n",
        "\n",
        "Loading the dataset is crucial as it provides the raw data needed for our analysis and model training."
      ],
      "metadata": {
        "id": "8pZDdzNJ_I3-"
      }
    },
    {
      "cell_type": "code",
      "source": [
        "# Load Dataset\n",
        "file_path = '/content/Churn_Modelling.csv'\n",
        "df = pd.read_csv(file_path)"
      ],
      "metadata": {
        "id": "A9g3cBzF_bq2"
      },
      "execution_count": 10,
      "outputs": []
    },
    {
      "cell_type": "markdown",
      "source": [
        "****\n",
        "3. **DROP UNNECESSARY COLUMNS**\n",
        "\n",
        "Removing non-essential columns (RowNumber, CustomerId, Surname) to eliminate noise and avoid redundancy."
      ],
      "metadata": {
        "id": "s4NlVlOJ_1a3"
      }
    },
    {
      "cell_type": "code",
      "source": [
        "# Drop unnecessary columns\n",
        "df.drop(columns=['RowNumber', 'CustomerId', 'Surname'], inplace=True)"
      ],
      "metadata": {
        "id": "fPJnjzOaASgv"
      },
      "execution_count": 11,
      "outputs": []
    },
    {
      "cell_type": "markdown",
      "source": [
        "****\n",
        "4. **ENCODE CATEGORICAL FEAUTURES**\n",
        "\n",
        "Encoding categorical variables (Geography, Gender) into numerical format to make them usable for ML models."
      ],
      "metadata": {
        "id": "LgqrHIwNAm3Q"
      }
    },
    {
      "cell_type": "code",
      "source": [
        "# Encode categorical features\n",
        "label_encoders = {}\n",
        "for col in ['Geography', 'Gender']:\n",
        "    le = LabelEncoder()\n",
        "    df[col] = le.fit_transform(df[col])\n",
        "    label_encoders[col] = le"
      ],
      "metadata": {
        "id": "WzLo9Ua7A3fX"
      },
      "execution_count": 14,
      "outputs": []
    },
    {
      "cell_type": "markdown",
      "source": [
        "****\n",
        "5. **FEAUTURE SELECTION**\n",
        "\n",
        "Separating feature variables (X) and target variable (y) to prepare for model training.\n"
      ],
      "metadata": {
        "id": "p2n01TOlB1RA"
      }
    },
    {
      "cell_type": "code",
      "source": [
        "# Feature Selection\n",
        "X = df.drop(columns=['Exited'])  # Features\n",
        "y = df['Exited']  # Target"
      ],
      "metadata": {
        "id": "3-p_P81NCJBf"
      },
      "execution_count": 15,
      "outputs": []
    },
    {
      "cell_type": "markdown",
      "source": [
        "****\n",
        "6. **SCALE NUMERICAL FEATURES**\n",
        "\n",
        "\n",
        "\n",
        "*   Standardizing features to have zero mean and unit variance. This helps improve model convergence and performance.\n",
        "\n"
      ],
      "metadata": {
        "id": "ylS9BC73CTDP"
      }
    },
    {
      "cell_type": "code",
      "source": [
        "# Scale numerical features\n",
        "scaler = StandardScaler()\n",
        "X_scaled = scaler.fit_transform(X)"
      ],
      "metadata": {
        "id": "WoalMrG0Cglf"
      },
      "execution_count": 16,
      "outputs": []
    },
    {
      "cell_type": "markdown",
      "source": [
        "****\n",
        "7. **SPLIT INTO TRAINING & TESTING SETS**\n",
        "\n",
        "\n",
        "\n",
        "*   Splitting dataset into 80% training and 20% testing to allow model evaluation on unseen data.\n",
        "*   Stratification ensures class distribution remains the same in both sets.\n",
        "\n"
      ],
      "metadata": {
        "id": "ZVwcW6q6CmsF"
      }
    },
    {
      "cell_type": "code",
      "source": [
        "# Split into training & testing sets\n",
        "X_train, X_test, y_train, y_test = train_test_split(X_scaled, y, test_size=0.2, random_state=42, stratify=y)"
      ],
      "metadata": {
        "id": "cz_iIWGIDDDA"
      },
      "execution_count": 17,
      "outputs": []
    },
    {
      "cell_type": "markdown",
      "source": [
        "****\n",
        "8. **MODELS**\n",
        "\n",
        "\n",
        "\n",
        "1.   **Model 1: Classical Supervised Learning (Logistic Regression)**\n",
        "\n",
        "Implementing Logistic Regression as a baseline model to compare with more complex models.\n",
        "\n"
      ],
      "metadata": {
        "id": "UaJzLP_IDSOv"
      }
    },
    {
      "cell_type": "code",
      "source": [
        "# ---- Model 1: Classical Supervised Learning (Logistic Regression) ----\n",
        "# Implementing Logistic Regression as a baseline model to compare with more complex models.\n",
        "log_reg = LogisticRegression()\n",
        "log_reg.fit(X_train, y_train)\n",
        "y_pred_log = log_reg.predict(X_test)\n",
        "print(\"Logistic Regression Report:\\n\", classification_report(y_test, y_pred_log))"
      ],
      "metadata": {
        "colab": {
          "base_uri": "https://localhost:8080/"
        },
        "id": "7MPdddafDsGI",
        "outputId": "bfaca945-15c4-43db-8f53-088c81c581a1"
      },
      "execution_count": 18,
      "outputs": [
        {
          "output_type": "stream",
          "name": "stdout",
          "text": [
            "Logistic Regression Report:\n",
            "               precision    recall  f1-score   support\n",
            "\n",
            "           0       0.82      0.97      0.89      1593\n",
            "           1       0.59      0.14      0.23       407\n",
            "\n",
            "    accuracy                           0.81      2000\n",
            "   macro avg       0.70      0.56      0.56      2000\n",
            "weighted avg       0.77      0.81      0.75      2000\n",
            "\n"
          ]
        }
      ]
    },
    {
      "cell_type": "markdown",
      "source": [
        "****\n",
        "2. **Model 2: Basic Neural Network**\n",
        "\n",
        "\n",
        "*   A simple neural network model without any optimizations.\n",
        "*   This serves as a starting point before applying optimization techniques.\n",
        "\n"
      ],
      "metadata": {
        "id": "iFMp8e9tD-pA"
      }
    },
    {
      "cell_type": "code",
      "source": [
        "# ---- Model 2: Basic Neural Network ----\n",
        "\n",
        "nn_model = Sequential([\n",
        "    Dense(16, activation='relu', input_shape=(X_train.shape[1],)),\n",
        "    Dense(8, activation='relu'),\n",
        "    Dense(1, activation='sigmoid')\n",
        "])\n",
        "nn_model.compile(loss='binary_crossentropy', optimizer='adam', metrics=['accuracy'])\n",
        "nn_model.fit(X_train, y_train, epochs=10, batch_size=32, verbose=1, validation_split=0.2)\n",
        "\n",
        "# Evaluate Basic NN\n",
        "# Predicting on the test set and evaluating performance to measure the model's effectiveness.\n",
        "y_pred_nn = (nn_model.predict(X_test) > 0.5).astype(\"int32\")\n",
        "print(\"Basic Neural Network Report:\\n\", classification_report(y_test, y_pred_nn))"
      ],
      "metadata": {
        "colab": {
          "base_uri": "https://localhost:8080/"
        },
        "id": "vVKhpodSEMyu",
        "outputId": "cebf7371-cbc6-40aa-fd59-dac75fc854f6"
      },
      "execution_count": 19,
      "outputs": [
        {
          "output_type": "stream",
          "name": "stderr",
          "text": [
            "/usr/local/lib/python3.11/dist-packages/keras/src/layers/core/dense.py:87: UserWarning: Do not pass an `input_shape`/`input_dim` argument to a layer. When using Sequential models, prefer using an `Input(shape)` object as the first layer in the model instead.\n",
            "  super().__init__(activity_regularizer=activity_regularizer, **kwargs)\n"
          ]
        },
        {
          "output_type": "stream",
          "name": "stdout",
          "text": [
            "Epoch 1/10\n",
            "\u001b[1m200/200\u001b[0m \u001b[32m━━━━━━━━━━━━━━━━━━━━\u001b[0m\u001b[37m\u001b[0m \u001b[1m2s\u001b[0m 3ms/step - accuracy: 0.7860 - loss: 0.5512 - val_accuracy: 0.8000 - val_loss: 0.4670\n",
            "Epoch 2/10\n",
            "\u001b[1m200/200\u001b[0m \u001b[32m━━━━━━━━━━━━━━━━━━━━\u001b[0m\u001b[37m\u001b[0m \u001b[1m1s\u001b[0m 3ms/step - accuracy: 0.7953 - loss: 0.4610 - val_accuracy: 0.8181 - val_loss: 0.4334\n",
            "Epoch 3/10\n",
            "\u001b[1m200/200\u001b[0m \u001b[32m━━━━━━━━━━━━━━━━━━━━\u001b[0m\u001b[37m\u001b[0m \u001b[1m1s\u001b[0m 3ms/step - accuracy: 0.8132 - loss: 0.4266 - val_accuracy: 0.8300 - val_loss: 0.4160\n",
            "Epoch 4/10\n",
            "\u001b[1m200/200\u001b[0m \u001b[32m━━━━━━━━━━━━━━━━━━━━\u001b[0m\u001b[37m\u001b[0m \u001b[1m1s\u001b[0m 2ms/step - accuracy: 0.8180 - loss: 0.4223 - val_accuracy: 0.8294 - val_loss: 0.4027\n",
            "Epoch 5/10\n",
            "\u001b[1m200/200\u001b[0m \u001b[32m━━━━━━━━━━━━━━━━━━━━\u001b[0m\u001b[37m\u001b[0m \u001b[1m1s\u001b[0m 2ms/step - accuracy: 0.8283 - loss: 0.4018 - val_accuracy: 0.8338 - val_loss: 0.3924\n",
            "Epoch 6/10\n",
            "\u001b[1m200/200\u001b[0m \u001b[32m━━━━━━━━━━━━━━━━━━━━\u001b[0m\u001b[37m\u001b[0m \u001b[1m1s\u001b[0m 2ms/step - accuracy: 0.8312 - loss: 0.3852 - val_accuracy: 0.8363 - val_loss: 0.3841\n",
            "Epoch 7/10\n",
            "\u001b[1m200/200\u001b[0m \u001b[32m━━━━━━━━━━━━━━━━━━━━\u001b[0m\u001b[37m\u001b[0m \u001b[1m0s\u001b[0m 2ms/step - accuracy: 0.8282 - loss: 0.3855 - val_accuracy: 0.8381 - val_loss: 0.3777\n",
            "Epoch 8/10\n",
            "\u001b[1m200/200\u001b[0m \u001b[32m━━━━━━━━━━━━━━━━━━━━\u001b[0m\u001b[37m\u001b[0m \u001b[1m0s\u001b[0m 2ms/step - accuracy: 0.8256 - loss: 0.3845 - val_accuracy: 0.8413 - val_loss: 0.3767\n",
            "Epoch 9/10\n",
            "\u001b[1m200/200\u001b[0m \u001b[32m━━━━━━━━━━━━━━━━━━━━\u001b[0m\u001b[37m\u001b[0m \u001b[1m1s\u001b[0m 2ms/step - accuracy: 0.8342 - loss: 0.3774 - val_accuracy: 0.8531 - val_loss: 0.3674\n",
            "Epoch 10/10\n",
            "\u001b[1m200/200\u001b[0m \u001b[32m━━━━━━━━━━━━━━━━━━━━\u001b[0m\u001b[37m\u001b[0m \u001b[1m1s\u001b[0m 2ms/step - accuracy: 0.8412 - loss: 0.3760 - val_accuracy: 0.8550 - val_loss: 0.3638\n",
            "\u001b[1m63/63\u001b[0m \u001b[32m━━━━━━━━━━━━━━━━━━━━\u001b[0m\u001b[37m\u001b[0m \u001b[1m0s\u001b[0m 1ms/step\n",
            "Basic Neural Network Report:\n",
            "               precision    recall  f1-score   support\n",
            "\n",
            "           0       0.85      0.96      0.90      1593\n",
            "           1       0.69      0.36      0.48       407\n",
            "\n",
            "    accuracy                           0.84      2000\n",
            "   macro avg       0.77      0.66      0.69      2000\n",
            "weighted avg       0.82      0.84      0.82      2000\n",
            "\n"
          ]
        }
      ]
    },
    {
      "cell_type": "markdown",
      "source": [
        "****\n",
        "3. **Model 3: Optimized Neural Network**\n",
        "\n",
        "\n",
        "\n",
        "*    A more advanced neural network with optimizations (Dropout, Learning Rate adjustment, Early Stopping).\n",
        "*   This helps improve model performance and prevents overfitting.\n",
        "\n"
      ],
      "metadata": {
        "id": "g_dItb3lE0Jn"
      }
    },
    {
      "cell_type": "code",
      "source": [
        "#---- Model 3: Optimized Neural Network ----\n",
        "# A more advanced neural network with optimizations (Dropout, Learning Rate adjustment, Early Stopping).\n",
        "# This helps improve model performance and prevents overfitting.\n",
        "nn_optimized = Sequential([\n",
        "    Dense(32, activation='relu', input_shape=(X_train.shape[1],)),\n",
        "    Dropout(0.3),\n",
        "    Dense(16, activation='relu'),\n",
        "    Dropout(0.3),\n",
        "    Dense(1, activation='sigmoid')\n",
        "])\n",
        "\n",
        "nn_optimized.compile(loss='binary_crossentropy', optimizer=Adam(learning_rate=0.001), metrics=['accuracy'])\n",
        "\n",
        "# Early Stopping Callback\n",
        "# Stops training when validation loss stops improving, preventing overfitting and reducing training time.\n",
        "early_stopping = EarlyStopping(monitor='val_loss', patience=5, restore_best_weights=True)\n",
        "\n",
        "# Train Optimized NN\n",
        "nn_optimized.fit(X_train, y_train, epochs=50, batch_size=32, verbose=1, validation_split=0.2, callbacks=[early_stopping])"
      ],
      "metadata": {
        "colab": {
          "base_uri": "https://localhost:8080/"
        },
        "id": "2ZWoPg-aFLqP",
        "outputId": "baa031af-7385-4194-bbe7-54324ac37a31"
      },
      "execution_count": 20,
      "outputs": [
        {
          "output_type": "stream",
          "name": "stdout",
          "text": [
            "Epoch 1/50\n"
          ]
        },
        {
          "output_type": "stream",
          "name": "stderr",
          "text": [
            "/usr/local/lib/python3.11/dist-packages/keras/src/layers/core/dense.py:87: UserWarning: Do not pass an `input_shape`/`input_dim` argument to a layer. When using Sequential models, prefer using an `Input(shape)` object as the first layer in the model instead.\n",
            "  super().__init__(activity_regularizer=activity_regularizer, **kwargs)\n"
          ]
        },
        {
          "output_type": "stream",
          "name": "stdout",
          "text": [
            "\u001b[1m200/200\u001b[0m \u001b[32m━━━━━━━━━━━━━━━━━━━━\u001b[0m\u001b[37m\u001b[0m \u001b[1m1s\u001b[0m 3ms/step - accuracy: 0.6556 - loss: 0.6096 - val_accuracy: 0.8000 - val_loss: 0.4635\n",
            "Epoch 2/50\n",
            "\u001b[1m200/200\u001b[0m \u001b[32m━━━━━━━━━━━━━━━━━━━━\u001b[0m\u001b[37m\u001b[0m \u001b[1m1s\u001b[0m 2ms/step - accuracy: 0.7962 - loss: 0.4755 - val_accuracy: 0.8025 - val_loss: 0.4406\n",
            "Epoch 3/50\n",
            "\u001b[1m200/200\u001b[0m \u001b[32m━━━━━━━━━━━━━━━━━━━━\u001b[0m\u001b[37m\u001b[0m \u001b[1m0s\u001b[0m 2ms/step - accuracy: 0.8002 - loss: 0.4668 - val_accuracy: 0.8119 - val_loss: 0.4318\n",
            "Epoch 4/50\n",
            "\u001b[1m200/200\u001b[0m \u001b[32m━━━━━━━━━━━━━━━━━━━━\u001b[0m\u001b[37m\u001b[0m \u001b[1m0s\u001b[0m 2ms/step - accuracy: 0.8099 - loss: 0.4418 - val_accuracy: 0.8244 - val_loss: 0.4207\n",
            "Epoch 5/50\n",
            "\u001b[1m200/200\u001b[0m \u001b[32m━━━━━━━━━━━━━━━━━━━━\u001b[0m\u001b[37m\u001b[0m \u001b[1m0s\u001b[0m 2ms/step - accuracy: 0.8196 - loss: 0.4266 - val_accuracy: 0.8394 - val_loss: 0.4078\n",
            "Epoch 6/50\n",
            "\u001b[1m200/200\u001b[0m \u001b[32m━━━━━━━━━━━━━━━━━━━━\u001b[0m\u001b[37m\u001b[0m \u001b[1m1s\u001b[0m 2ms/step - accuracy: 0.8223 - loss: 0.4312 - val_accuracy: 0.8444 - val_loss: 0.3941\n",
            "Epoch 7/50\n",
            "\u001b[1m200/200\u001b[0m \u001b[32m━━━━━━━━━━━━━━━━━━━━\u001b[0m\u001b[37m\u001b[0m \u001b[1m1s\u001b[0m 2ms/step - accuracy: 0.8261 - loss: 0.4134 - val_accuracy: 0.8587 - val_loss: 0.3815\n",
            "Epoch 8/50\n",
            "\u001b[1m200/200\u001b[0m \u001b[32m━━━━━━━━━━━━━━━━━━━━\u001b[0m\u001b[37m\u001b[0m \u001b[1m1s\u001b[0m 2ms/step - accuracy: 0.8264 - loss: 0.4135 - val_accuracy: 0.8637 - val_loss: 0.3696\n",
            "Epoch 9/50\n",
            "\u001b[1m200/200\u001b[0m \u001b[32m━━━━━━━━━━━━━━━━━━━━\u001b[0m\u001b[37m\u001b[0m \u001b[1m1s\u001b[0m 2ms/step - accuracy: 0.8371 - loss: 0.4009 - val_accuracy: 0.8600 - val_loss: 0.3644\n",
            "Epoch 10/50\n",
            "\u001b[1m200/200\u001b[0m \u001b[32m━━━━━━━━━━━━━━━━━━━━\u001b[0m\u001b[37m\u001b[0m \u001b[1m0s\u001b[0m 2ms/step - accuracy: 0.8446 - loss: 0.3880 - val_accuracy: 0.8606 - val_loss: 0.3600\n",
            "Epoch 11/50\n",
            "\u001b[1m200/200\u001b[0m \u001b[32m━━━━━━━━━━━━━━━━━━━━\u001b[0m\u001b[37m\u001b[0m \u001b[1m1s\u001b[0m 2ms/step - accuracy: 0.8376 - loss: 0.3841 - val_accuracy: 0.8600 - val_loss: 0.3598\n",
            "Epoch 12/50\n",
            "\u001b[1m200/200\u001b[0m \u001b[32m━━━━━━━━━━━━━━━━━━━━\u001b[0m\u001b[37m\u001b[0m \u001b[1m0s\u001b[0m 2ms/step - accuracy: 0.8459 - loss: 0.3782 - val_accuracy: 0.8662 - val_loss: 0.3564\n",
            "Epoch 13/50\n",
            "\u001b[1m200/200\u001b[0m \u001b[32m━━━━━━━━━━━━━━━━━━━━\u001b[0m\u001b[37m\u001b[0m \u001b[1m1s\u001b[0m 2ms/step - accuracy: 0.8390 - loss: 0.3832 - val_accuracy: 0.8706 - val_loss: 0.3538\n",
            "Epoch 14/50\n",
            "\u001b[1m200/200\u001b[0m \u001b[32m━━━━━━━━━━━━━━━━━━━━\u001b[0m\u001b[37m\u001b[0m \u001b[1m1s\u001b[0m 2ms/step - accuracy: 0.8345 - loss: 0.3986 - val_accuracy: 0.8650 - val_loss: 0.3544\n",
            "Epoch 15/50\n",
            "\u001b[1m200/200\u001b[0m \u001b[32m━━━━━━━━━━━━━━━━━━━━\u001b[0m\u001b[37m\u001b[0m \u001b[1m0s\u001b[0m 2ms/step - accuracy: 0.8380 - loss: 0.3840 - val_accuracy: 0.8656 - val_loss: 0.3527\n",
            "Epoch 16/50\n",
            "\u001b[1m200/200\u001b[0m \u001b[32m━━━━━━━━━━━━━━━━━━━━\u001b[0m\u001b[37m\u001b[0m \u001b[1m1s\u001b[0m 3ms/step - accuracy: 0.8375 - loss: 0.3877 - val_accuracy: 0.8656 - val_loss: 0.3518\n",
            "Epoch 17/50\n",
            "\u001b[1m200/200\u001b[0m \u001b[32m━━━━━━━━━━━━━━━━━━━━\u001b[0m\u001b[37m\u001b[0m \u001b[1m1s\u001b[0m 4ms/step - accuracy: 0.8402 - loss: 0.3823 - val_accuracy: 0.8700 - val_loss: 0.3494\n",
            "Epoch 18/50\n",
            "\u001b[1m200/200\u001b[0m \u001b[32m━━━━━━━━━━━━━━━━━━━━\u001b[0m\u001b[37m\u001b[0m \u001b[1m1s\u001b[0m 4ms/step - accuracy: 0.8430 - loss: 0.3921 - val_accuracy: 0.8694 - val_loss: 0.3477\n",
            "Epoch 19/50\n",
            "\u001b[1m200/200\u001b[0m \u001b[32m━━━━━━━━━━━━━━━━━━━━\u001b[0m\u001b[37m\u001b[0m \u001b[1m1s\u001b[0m 2ms/step - accuracy: 0.8467 - loss: 0.3734 - val_accuracy: 0.8719 - val_loss: 0.3477\n",
            "Epoch 20/50\n",
            "\u001b[1m200/200\u001b[0m \u001b[32m━━━━━━━━━━━━━━━━━━━━\u001b[0m\u001b[37m\u001b[0m \u001b[1m1s\u001b[0m 2ms/step - accuracy: 0.8346 - loss: 0.3877 - val_accuracy: 0.8700 - val_loss: 0.3462\n",
            "Epoch 21/50\n",
            "\u001b[1m200/200\u001b[0m \u001b[32m━━━━━━━━━━━━━━━━━━━━\u001b[0m\u001b[37m\u001b[0m \u001b[1m0s\u001b[0m 2ms/step - accuracy: 0.8415 - loss: 0.3842 - val_accuracy: 0.8662 - val_loss: 0.3462\n",
            "Epoch 22/50\n",
            "\u001b[1m200/200\u001b[0m \u001b[32m━━━━━━━━━━━━━━━━━━━━\u001b[0m\u001b[37m\u001b[0m \u001b[1m0s\u001b[0m 2ms/step - accuracy: 0.8434 - loss: 0.3910 - val_accuracy: 0.8687 - val_loss: 0.3472\n",
            "Epoch 23/50\n",
            "\u001b[1m200/200\u001b[0m \u001b[32m━━━━━━━━━━━━━━━━━━━━\u001b[0m\u001b[37m\u001b[0m \u001b[1m0s\u001b[0m 2ms/step - accuracy: 0.8445 - loss: 0.3718 - val_accuracy: 0.8687 - val_loss: 0.3471\n",
            "Epoch 24/50\n",
            "\u001b[1m200/200\u001b[0m \u001b[32m━━━━━━━━━━━━━━━━━━━━\u001b[0m\u001b[37m\u001b[0m \u001b[1m1s\u001b[0m 2ms/step - accuracy: 0.8432 - loss: 0.3756 - val_accuracy: 0.8706 - val_loss: 0.3450\n",
            "Epoch 25/50\n",
            "\u001b[1m200/200\u001b[0m \u001b[32m━━━━━━━━━━━━━━━━━━━━\u001b[0m\u001b[37m\u001b[0m \u001b[1m1s\u001b[0m 2ms/step - accuracy: 0.8465 - loss: 0.3746 - val_accuracy: 0.8669 - val_loss: 0.3445\n",
            "Epoch 26/50\n",
            "\u001b[1m200/200\u001b[0m \u001b[32m━━━━━━━━━━━━━━━━━━━━\u001b[0m\u001b[37m\u001b[0m \u001b[1m1s\u001b[0m 3ms/step - accuracy: 0.8430 - loss: 0.3802 - val_accuracy: 0.8675 - val_loss: 0.3448\n",
            "Epoch 27/50\n",
            "\u001b[1m200/200\u001b[0m \u001b[32m━━━━━━━━━━━━━━━━━━━━\u001b[0m\u001b[37m\u001b[0m \u001b[1m1s\u001b[0m 2ms/step - accuracy: 0.8474 - loss: 0.3787 - val_accuracy: 0.8675 - val_loss: 0.3441\n",
            "Epoch 28/50\n",
            "\u001b[1m200/200\u001b[0m \u001b[32m━━━━━━━━━━━━━━━━━━━━\u001b[0m\u001b[37m\u001b[0m \u001b[1m1s\u001b[0m 2ms/step - accuracy: 0.8434 - loss: 0.3834 - val_accuracy: 0.8687 - val_loss: 0.3433\n",
            "Epoch 29/50\n",
            "\u001b[1m200/200\u001b[0m \u001b[32m━━━━━━━━━━━━━━━━━━━━\u001b[0m\u001b[37m\u001b[0m \u001b[1m1s\u001b[0m 2ms/step - accuracy: 0.8524 - loss: 0.3694 - val_accuracy: 0.8681 - val_loss: 0.3436\n",
            "Epoch 30/50\n",
            "\u001b[1m200/200\u001b[0m \u001b[32m━━━━━━━━━━━━━━━━━━━━\u001b[0m\u001b[37m\u001b[0m \u001b[1m0s\u001b[0m 2ms/step - accuracy: 0.8530 - loss: 0.3701 - val_accuracy: 0.8681 - val_loss: 0.3409\n",
            "Epoch 31/50\n",
            "\u001b[1m200/200\u001b[0m \u001b[32m━━━━━━━━━━━━━━━━━━━━\u001b[0m\u001b[37m\u001b[0m \u001b[1m0s\u001b[0m 2ms/step - accuracy: 0.8560 - loss: 0.3704 - val_accuracy: 0.8694 - val_loss: 0.3423\n",
            "Epoch 32/50\n",
            "\u001b[1m200/200\u001b[0m \u001b[32m━━━━━━━━━━━━━━━━━━━━\u001b[0m\u001b[37m\u001b[0m \u001b[1m1s\u001b[0m 3ms/step - accuracy: 0.8482 - loss: 0.3748 - val_accuracy: 0.8669 - val_loss: 0.3403\n",
            "Epoch 33/50\n",
            "\u001b[1m200/200\u001b[0m \u001b[32m━━━━━━━━━━━━━━━━━━━━\u001b[0m\u001b[37m\u001b[0m \u001b[1m1s\u001b[0m 2ms/step - accuracy: 0.8432 - loss: 0.3804 - val_accuracy: 0.8669 - val_loss: 0.3400\n",
            "Epoch 34/50\n",
            "\u001b[1m200/200\u001b[0m \u001b[32m━━━━━━━━━━━━━━━━━━━━\u001b[0m\u001b[37m\u001b[0m \u001b[1m1s\u001b[0m 2ms/step - accuracy: 0.8461 - loss: 0.3702 - val_accuracy: 0.8675 - val_loss: 0.3403\n",
            "Epoch 35/50\n",
            "\u001b[1m200/200\u001b[0m \u001b[32m━━━━━━━━━━━━━━━━━━━━\u001b[0m\u001b[37m\u001b[0m \u001b[1m0s\u001b[0m 2ms/step - accuracy: 0.8464 - loss: 0.3638 - val_accuracy: 0.8662 - val_loss: 0.3425\n",
            "Epoch 36/50\n",
            "\u001b[1m200/200\u001b[0m \u001b[32m━━━━━━━━━━━━━━━━━━━━\u001b[0m\u001b[37m\u001b[0m \u001b[1m0s\u001b[0m 2ms/step - accuracy: 0.8517 - loss: 0.3613 - val_accuracy: 0.8687 - val_loss: 0.3404\n",
            "Epoch 37/50\n",
            "\u001b[1m200/200\u001b[0m \u001b[32m━━━━━━━━━━━━━━━━━━━━\u001b[0m\u001b[37m\u001b[0m \u001b[1m1s\u001b[0m 2ms/step - accuracy: 0.8503 - loss: 0.3711 - val_accuracy: 0.8700 - val_loss: 0.3390\n",
            "Epoch 38/50\n",
            "\u001b[1m200/200\u001b[0m \u001b[32m━━━━━━━━━━━━━━━━━━━━\u001b[0m\u001b[37m\u001b[0m \u001b[1m1s\u001b[0m 2ms/step - accuracy: 0.8491 - loss: 0.3744 - val_accuracy: 0.8687 - val_loss: 0.3397\n",
            "Epoch 39/50\n",
            "\u001b[1m200/200\u001b[0m \u001b[32m━━━━━━━━━━━━━━━━━━━━\u001b[0m\u001b[37m\u001b[0m \u001b[1m0s\u001b[0m 2ms/step - accuracy: 0.8494 - loss: 0.3626 - val_accuracy: 0.8669 - val_loss: 0.3395\n",
            "Epoch 40/50\n",
            "\u001b[1m200/200\u001b[0m \u001b[32m━━━━━━━━━━━━━━━━━━━━\u001b[0m\u001b[37m\u001b[0m \u001b[1m1s\u001b[0m 2ms/step - accuracy: 0.8543 - loss: 0.3649 - val_accuracy: 0.8669 - val_loss: 0.3380\n",
            "Epoch 41/50\n",
            "\u001b[1m200/200\u001b[0m \u001b[32m━━━━━━━━━━━━━━━━━━━━\u001b[0m\u001b[37m\u001b[0m \u001b[1m1s\u001b[0m 2ms/step - accuracy: 0.8520 - loss: 0.3667 - val_accuracy: 0.8669 - val_loss: 0.3380\n",
            "Epoch 42/50\n",
            "\u001b[1m200/200\u001b[0m \u001b[32m━━━━━━━━━━━━━━━━━━━━\u001b[0m\u001b[37m\u001b[0m \u001b[1m1s\u001b[0m 2ms/step - accuracy: 0.8534 - loss: 0.3694 - val_accuracy: 0.8687 - val_loss: 0.3352\n",
            "Epoch 43/50\n",
            "\u001b[1m200/200\u001b[0m \u001b[32m━━━━━━━━━━━━━━━━━━━━\u001b[0m\u001b[37m\u001b[0m \u001b[1m0s\u001b[0m 2ms/step - accuracy: 0.8561 - loss: 0.3579 - val_accuracy: 0.8675 - val_loss: 0.3370\n",
            "Epoch 44/50\n",
            "\u001b[1m200/200\u001b[0m \u001b[32m━━━━━━━━━━━━━━━━━━━━\u001b[0m\u001b[37m\u001b[0m \u001b[1m1s\u001b[0m 2ms/step - accuracy: 0.8502 - loss: 0.3712 - val_accuracy: 0.8694 - val_loss: 0.3381\n",
            "Epoch 45/50\n",
            "\u001b[1m200/200\u001b[0m \u001b[32m━━━━━━━━━━━━━━━━━━━━\u001b[0m\u001b[37m\u001b[0m \u001b[1m0s\u001b[0m 2ms/step - accuracy: 0.8430 - loss: 0.3706 - val_accuracy: 0.8706 - val_loss: 0.3358\n",
            "Epoch 46/50\n",
            "\u001b[1m200/200\u001b[0m \u001b[32m━━━━━━━━━━━━━━━━━━━━\u001b[0m\u001b[37m\u001b[0m \u001b[1m1s\u001b[0m 2ms/step - accuracy: 0.8569 - loss: 0.3566 - val_accuracy: 0.8681 - val_loss: 0.3365\n",
            "Epoch 47/50\n",
            "\u001b[1m200/200\u001b[0m \u001b[32m━━━━━━━━━━━━━━━━━━━━\u001b[0m\u001b[37m\u001b[0m \u001b[1m1s\u001b[0m 2ms/step - accuracy: 0.8544 - loss: 0.3570 - val_accuracy: 0.8706 - val_loss: 0.3352\n"
          ]
        },
        {
          "output_type": "execute_result",
          "data": {
            "text/plain": [
              "<keras.src.callbacks.history.History at 0x79a8881273d0>"
            ]
          },
          "metadata": {},
          "execution_count": 20
        }
      ]
    },
    {
      "cell_type": "markdown",
      "source": [
        "****\n",
        "****\n",
        "8. **EVALUATE OPTIMIZED NN**\n",
        "\n",
        "Comparing performance after applying optimizations to see the impact on model accuracy."
      ],
      "metadata": {
        "id": "nZvAchuiFurH"
      }
    },
    {
      "cell_type": "code",
      "source": [
        "# Evaluate Optimized NN\n",
        "y_pred_nn_opt = (nn_optimized.predict(X_test) > 0.5).astype(\"int32\")\n",
        "print(\"Optimized Neural Network Report:\\n\", classification_report(y_test, y_pred_nn_opt))"
      ],
      "metadata": {
        "colab": {
          "base_uri": "https://localhost:8080/"
        },
        "id": "kKZiAKRXG6bh",
        "outputId": "80b2db1e-17a4-46bf-92f6-f825ffe52af9"
      },
      "execution_count": 22,
      "outputs": [
        {
          "output_type": "stream",
          "name": "stdout",
          "text": [
            "\u001b[1m63/63\u001b[0m \u001b[32m━━━━━━━━━━━━━━━━━━━━\u001b[0m\u001b[37m\u001b[0m \u001b[1m0s\u001b[0m 2ms/step  \n",
            "Optimized Neural Network Report:\n",
            "               precision    recall  f1-score   support\n",
            "\n",
            "           0       0.87      0.97      0.92      1593\n",
            "           1       0.79      0.42      0.55       407\n",
            "\n",
            "    accuracy                           0.86      2000\n",
            "   macro avg       0.83      0.70      0.73      2000\n",
            "weighted avg       0.85      0.86      0.84      2000\n",
            "\n"
          ]
        }
      ]
    },
    {
      "cell_type": "markdown",
      "source": [
        "****\n",
        "**PERFORMANCE COMPARISON**\n",
        "\n",
        "Function to plot confusion matrices for model comparisons to visualize prediction performance."
      ],
      "metadata": {
        "id": "BmosKL44HJVA"
      }
    },
    {
      "cell_type": "code",
      "source": [
        "# ---- Performance Comparison ----\n",
        "def plot_confusion_matrix(y_true, y_pred, title):\n",
        "    cm = confusion_matrix(y_true, y_pred)\n",
        "    sns.heatmap(cm, annot=True, fmt='d', cmap='Blues')\n",
        "    plt.xlabel('Predicted')\n",
        "    plt.ylabel('Actual')\n",
        "    plt.title(title)\n",
        "    plt.show()\n",
        "\n",
        "plot_confusion_matrix(y_test, y_pred_log, \"Logistic Regression Confusion Matrix\")\n",
        "plot_confusion_matrix(y_test, y_pred_nn, \"Basic Neural Network Confusion Matrix\")\n",
        "plot_confusion_matrix(y_test, y_pred_nn_opt, \"Optimized Neural Network Confusion Matrix\")"
      ],
      "metadata": {
        "colab": {
          "base_uri": "https://localhost:8080/",
          "height": 1000
        },
        "id": "pJGlRrDQHfzr",
        "outputId": "ff685ff0-5135-445c-c63f-7df2efdad17c"
      },
      "execution_count": 23,
      "outputs": [
        {
          "output_type": "display_data",
          "data": {
            "text/plain": [
              "<Figure size 640x480 with 2 Axes>"
            ],
            "image/png": "[encoded data removed]"
          },
          "metadata": {}
        },
        {
          "output_type": "display_data",
          "data": {
            "text/plain": [
              "<Figure size 640x480 with 2 Axes>"
            ],
            "image/png": "[encoded data removed]"
          },
          "metadata": {}
        },
        {
          "output_type": "display_data",
          "data": {
            "text/plain": [
              "<Figure size 640x480 with 2 Axes>"
            ],
            "image/png": "[encoded data removed]"
          },
          "metadata": {}
        }
      ]
    },
    {
      "cell_type": "markdown",
      "source": [
        "****\n",
        "**ROC-AUC SCORE COMPARISON**\n",
        "\n",
        "Evaluating models using ROC-AUC score to measure classification performance beyond accuracy."
      ],
      "metadata": {
        "id": "qe03CXV7HxwX"
      }
    },
    {
      "cell_type": "code",
      "source": [
        "# ROC-AUC Score Comparison\n",
        "print(\"ROC-AUC Scores:\")\n",
        "print(\"Logistic Regression:\", roc_auc_score(y_test, y_pred_log))\n",
        "print(\"Basic Neural Network:\", roc_auc_score(y_test, y_pred_nn))\n",
        "print(\"Optimized Neural Network:\", roc_auc_score(y_test, y_pred_nn_opt))"
      ],
      "metadata": {
        "colab": {
          "base_uri": "https://localhost:8080/"
        },
        "id": "mb3iYWxvIPqi",
        "outputId": "e8f11d6b-3055-4da6-b2c0-7277a6d6c054"
      },
      "execution_count": 24,
      "outputs": [
        {
          "output_type": "stream",
          "name": "stdout",
          "text": [
            "ROC-AUC Scores:\n",
            "Logistic Regression: 0.558384270248677\n",
            "Basic Neural Network: 0.6607886777378303\n",
            "Optimized Neural Network: 0.6950347882551273\n"
          ]
        }
      ]
    },
    {
      "cell_type": "markdown",
      "source": [
        "****\n",
        "**PREDICT AND DISPLAY 5 INSTANCES**\n",
        "\n",
        "\n",
        "\n",
        "*   Selecting 5 random test instances and displaying their actual and predicted values.\n",
        "*   This helps interpret the model's predictions on real data samples.\n",
        "\n"
      ],
      "metadata": {
        "id": "pF9erI9WIeYx"
      }
    },
    {
      "cell_type": "code",
      "source": [
        "# Predict and Display 5 Instances\n",
        "sample_indices = np.random.choice(len(X_test), 5, replace=False)\n",
        "X_sample = X_test[sample_indices]\n",
        "y_actual = y_test.iloc[sample_indices].values\n",
        "y_pred_sample = (nn_optimized.predict(X_sample) > 0.5).astype(\"int32\")\n",
        "\n",
        "print(\"\\nSample Predictions:\")\n",
        "for i in range(5):\n",
        "    print(f\"Instance {i+1}:\")\n",
        "    print(f\"  Actual Churn: {y_actual[i]}\")\n",
        "    print(f\"  Predicted Churn: {y_pred_sample[i][0]}\")\n",
        "    print(\"-\" * 30)"
      ],
      "metadata": {
        "colab": {
          "base_uri": "https://localhost:8080/"
        },
        "id": "SV1WecNbJA2v",
        "outputId": "4636c678-4c85-476b-c0f1-498ae8c3f32e"
      },
      "execution_count": 25,
      "outputs": [
        {
          "output_type": "stream",
          "name": "stdout",
          "text": [
            "\u001b[1m1/1\u001b[0m \u001b[32m━━━━━━━━━━━━━━━━━━━━\u001b[0m\u001b[37m\u001b[0m \u001b[1m0s\u001b[0m 42ms/step\n",
            "\n",
            "Sample Predictions:\n",
            "Instance 1:\n",
            "  Actual Churn: 0\n",
            "  Predicted Churn: 0\n",
            "------------------------------\n",
            "Instance 2:\n",
            "  Actual Churn: 0\n",
            "  Predicted Churn: 0\n",
            "------------------------------\n",
            "Instance 3:\n",
            "  Actual Churn: 0\n",
            "  Predicted Churn: 0\n",
            "------------------------------\n",
            "Instance 4:\n",
            "  Actual Churn: 0\n",
            "  Predicted Churn: 0\n",
            "------------------------------\n",
            "Instance 5:\n",
            "  Actual Churn: 0\n",
            "  Predicted Churn: 0\n",
            "------------------------------\n"
          ]
        }
      ]
    }
  ]
}